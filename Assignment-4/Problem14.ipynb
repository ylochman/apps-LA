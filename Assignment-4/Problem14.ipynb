{
 "cells": [
  {
   "cell_type": "code",
   "execution_count": 1,
   "metadata": {},
   "outputs": [],
   "source": [
    "import numpy as np\n",
    "from scipy import linalg as LA\n",
    "from math import sqrt\n",
    "\n",
    "class GCM():\n",
    "    def __init__(self, G, b, eps=10e-5):\n",
    "        self.G = G\n",
    "        self.b = b\n",
    "        self.eps = eps\n",
    "\n",
    "    def gF(self, x):\n",
    "        return self.G.dot(x) - self.b\n",
    "\n",
    "    def alpha(self, p):\n",
    "        return (p.T.dot(self.b) / p.T.dot(self.G.dot(p))).flatten()[0]\n",
    "\n",
    "    def p_next(self, P, r):\n",
    "        coefs = (P.T.dot(self.G.dot(r)).T / np.diag(P.T.dot(G.dot(P)))).flatten()\n",
    "        p = r - np.sum(coefs * P, 1, keepdims=True)\n",
    "    #     print(p)\n",
    "        return p\n",
    "\n",
    "    def run(self, x0):\n",
    "        print('\\tx_0 = {}'.format(x0.flatten()))\n",
    "        #it 1\n",
    "        print('iteration 1:')\n",
    "        p0 = -self.gF(x0)\n",
    "        P = p0\n",
    "        alpha0 = self.alpha(p0)\n",
    "        x_prev = x0\n",
    "        x_next = x_prev + alpha0 * p0\n",
    "        norm_res = LA.norm(self.G.dot(x_next) - self.b)\n",
    "        print('\\tp_0 = {}'.format(p0.flatten()))\n",
    "        print('\\tx_1 = {}'.format(x_next.flatten()))\n",
    "        print('\\t||Gx-b|| = {:.3f}'.format(norm_res))\n",
    "        for i in range(1,self.G.shape[0]):\n",
    "            print('iteration {}:'.format(i+1))\n",
    "            x_prev = x_next\n",
    "            r_next = -self.gF(x_prev)\n",
    "            p_next = self.p_next(P, r_next)\n",
    "            P = np.hstack((P, p_next))\n",
    "            alpha_next = self.alpha(p_next)\n",
    "            x_next = x_prev + alpha_next * p_next\n",
    "            norm_res = LA.norm(G.dot(x_next) - b)\n",
    "            print('\\tp_{} = {}'.format(i, p_next.flatten()))\n",
    "            print('\\tx_{} = {}'.format(i+1, x_next.flatten()))\n",
    "            print('\\t||Gx-b|| = {:.3f}'.format(norm_res))\n",
    "            if norm_res < self.eps:\n",
    "                self.x = x_next\n",
    "                self.P = P\n",
    "                print('\\nThe method converged to x* = {}'.format(self.x.flatten()))\n",
    "                break"
   ]
  },
  {
   "cell_type": "code",
   "execution_count": 2,
   "metadata": {},
   "outputs": [
    {
     "name": "stdout",
     "output_type": "stream",
     "text": [
      "\tx_0 = [0. 0. 0. 0.]\n",
      "iteration 1:\n",
      "\tp_0 = [ 1.         -0.          2.          2.23606798]\n",
      "\tx_1 = [0.9045085  0.         1.80901699 2.02254249]\n",
      "\t||Gx-b|| = 2.860\n",
      "iteration 2:\n",
      "\tp_1 = [0.00911863 2.71352549 2.04077974 1.82940686]\n",
      "\tx_2 = [0.91119459 1.98965125 3.30538767 3.36392721]\n",
      "\t||Gx-b|| = 1.838\n",
      "iteration 3:\n",
      "\tp_2 = [ 1.17102717  1.35770074  1.58544583 -0.43103244]\n",
      "\tx_3 = [1.60398844 2.79288344 4.2433566  3.10892321]\n",
      "\t||Gx-b|| = 0.906\n",
      "iteration 4:\n",
      "\tp_3 = [ 0.86953519  0.59157947 -0.19954978  0.15681188]\n",
      "\tx_4 = [2.0472136  3.09442719 4.14164079 3.18885438]\n",
      "\t||Gx-b|| = 0.000\n",
      "\n",
      "The method converged to x* = [2.0472136  3.09442719 4.14164079 3.18885438]\n"
     ]
    }
   ],
   "source": [
    "G = np.array([\n",
    "[2, -1, 0, 0],\n",
    "[-1, 2, -1, 0],\n",
    "[0, -1, 2, -1 ],\n",
    "[0,  0, -1, 2],\n",
    "])\n",
    "b = np.array([[1,  0, 2, sqrt(5)]]).T\n",
    "x0 = np.zeros((4,1))\n",
    "\n",
    "GCM(G, b).run(x0)"
   ]
  },
  {
   "cell_type": "code",
   "execution_count": null,
   "metadata": {},
   "outputs": [],
   "source": []
  }
 ],
 "metadata": {
  "kernelspec": {
   "display_name": "Python 3",
   "language": "python",
   "name": "python3"
  },
  "language_info": {
   "codemirror_mode": {
    "name": "ipython",
    "version": 3
   },
   "file_extension": ".py",
   "mimetype": "text/x-python",
   "name": "python",
   "nbconvert_exporter": "python",
   "pygments_lexer": "ipython3",
   "version": "3.7.0"
  },
  "toc": {
   "nav_menu": {},
   "number_sections": true,
   "sideBar": true,
   "skip_h1_title": false,
   "toc_cell": false,
   "toc_position": {},
   "toc_section_display": "block",
   "toc_window_display": false
  }
 },
 "nbformat": 4,
 "nbformat_minor": 2
}
